{
 "cells": [
  {
   "cell_type": "code",
   "execution_count": 5,
   "id": "6441ce54-9d48-4286-91e5-f7c0c1257592",
   "metadata": {},
   "outputs": [],
   "source": [
    "l = []"
   ]
  },
  {
   "cell_type": "code",
   "execution_count": 6,
   "id": "2f1e0e5b-7c51-44e7-8ab2-e6918e8c3e21",
   "metadata": {},
   "outputs": [
    {
     "data": {
      "text/plain": [
       "list"
      ]
     },
     "execution_count": 6,
     "metadata": {},
     "output_type": "execute_result"
    }
   ],
   "source": [
    "type(l)"
   ]
  },
  {
   "cell_type": "code",
   "execution_count": 7,
   "id": "850d7386-4d19-48b0-87d6-59b7c7d37b44",
   "metadata": {},
   "outputs": [],
   "source": [
    "a = {}"
   ]
  },
  {
   "cell_type": "code",
   "execution_count": 8,
   "id": "b45def74-5245-4ff1-9751-c18257fd5987",
   "metadata": {},
   "outputs": [
    {
     "data": {
      "text/plain": [
       "dict"
      ]
     },
     "execution_count": 8,
     "metadata": {},
     "output_type": "execute_result"
    }
   ],
   "source": [
    "type(a)"
   ]
  },
  {
   "cell_type": "code",
   "execution_count": 9,
   "id": "9d4683e1-8239-43f8-9d94-28ce760edfb5",
   "metadata": {},
   "outputs": [],
   "source": [
    "p = ()"
   ]
  },
  {
   "cell_type": "code",
   "execution_count": 11,
   "id": "bbcadcf6-09f0-4385-86d1-c90582a2401f",
   "metadata": {},
   "outputs": [
    {
     "data": {
      "text/plain": [
       "tuple"
      ]
     },
     "execution_count": 11,
     "metadata": {},
     "output_type": "execute_result"
    }
   ],
   "source": [
    "type(p)"
   ]
  },
  {
   "cell_type": "code",
   "execution_count": 15,
   "id": "727e06eb-581a-41ed-868b-2e9a467b4548",
   "metadata": {},
   "outputs": [],
   "source": [
    "d = [1, 67,34,\"Aarati\",56.7,True,\"Snehal\",678]"
   ]
  },
  {
   "cell_type": "code",
   "execution_count": 16,
   "id": "9ce3e5b2-11ec-475b-afba-1b5cc562f6af",
   "metadata": {},
   "outputs": [
    {
     "data": {
      "text/plain": [
       "list"
      ]
     },
     "execution_count": 16,
     "metadata": {},
     "output_type": "execute_result"
    }
   ],
   "source": [
    "type(d)"
   ]
  },
  {
   "cell_type": "code",
   "execution_count": 17,
   "id": "954f9ab5-279b-4539-9a2f-8950b86e73b7",
   "metadata": {},
   "outputs": [],
   "source": [
    "#access 56.7 from d\n"
   ]
  },
  {
   "cell_type": "code",
   "execution_count": 20,
   "id": "51f64203-7e6e-4b3c-873a-994e86dc3a43",
   "metadata": {},
   "outputs": [
    {
     "data": {
      "text/plain": [
       "True"
      ]
     },
     "execution_count": 20,
     "metadata": {},
     "output_type": "execute_result"
    }
   ],
   "source": [
    "d[5]"
   ]
  },
  {
   "cell_type": "code",
   "execution_count": 21,
   "id": "5de67b74-a388-4de8-86ec-a5cd8f095414",
   "metadata": {},
   "outputs": [
    {
     "data": {
      "text/plain": [
       "56.7"
      ]
     },
     "execution_count": 21,
     "metadata": {},
     "output_type": "execute_result"
    }
   ],
   "source": [
    "d[4]"
   ]
  },
  {
   "cell_type": "code",
   "execution_count": 23,
   "id": "e66460b6-d71a-4700-8fb3-1d1cc5bc6dcf",
   "metadata": {},
   "outputs": [
    {
     "data": {
      "text/plain": [
       "34"
      ]
     },
     "execution_count": 23,
     "metadata": {},
     "output_type": "execute_result"
    }
   ],
   "source": [
    "d[-6]"
   ]
  },
  {
   "cell_type": "code",
   "execution_count": 32,
   "id": "0e3e9562-62dd-4bfa-ac85-1d9c80e730dc",
   "metadata": {},
   "outputs": [
    {
     "data": {
      "text/plain": [
       "bool"
      ]
     },
     "execution_count": 32,
     "metadata": {},
     "output_type": "execute_result"
    }
   ],
   "source": [
    "type(True)"
   ]
  },
  {
   "cell_type": "code",
   "execution_count": 31,
   "id": "4ee19a4a-fcdf-4b3e-9e43-0f216a6bc75a",
   "metadata": {},
   "outputs": [
    {
     "data": {
      "text/plain": [
       "str"
      ]
     },
     "execution_count": 31,
     "metadata": {},
     "output_type": "execute_result"
    }
   ],
   "source": [
    "type(\"Aarati\")"
   ]
  },
  {
   "cell_type": "code",
   "execution_count": 29,
   "id": "d5cae140-ac79-44de-8e76-5ba78217df46",
   "metadata": {},
   "outputs": [
    {
     "data": {
      "text/plain": [
       "float"
      ]
     },
     "execution_count": 29,
     "metadata": {},
     "output_type": "execute_result"
    }
   ],
   "source": [
    "type(56.7)"
   ]
  },
  {
   "cell_type": "code",
   "execution_count": null,
   "id": "eab58032-56ce-4382-ab2d-9da6898c82f6",
   "metadata": {},
   "outputs": [],
   "source": []
  }
 ],
 "metadata": {
  "kernelspec": {
   "display_name": "Python 3 (ipykernel)",
   "language": "python",
   "name": "python3"
  },
  "language_info": {
   "codemirror_mode": {
    "name": "ipython",
    "version": 3
   },
   "file_extension": ".py",
   "mimetype": "text/x-python",
   "name": "python",
   "nbconvert_exporter": "python",
   "pygments_lexer": "ipython3",
   "version": "3.12.4"
  }
 },
 "nbformat": 4,
 "nbformat_minor": 5
}
