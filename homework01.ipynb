{
 "cells": [
  {
   "cell_type": "raw",
   "id": "84d3d660-dddf-4c61-9c53-8499dd93aa2f",
   "metadata": {},
   "source": [
    "s = \"this is My First Python programming class and i am learNING python string and its function\" 1 . Try to extract data from index one to index 300 with a jump of 3 2. Try to reverse a string without using reverse function 3. Try to split a string after conversion of entire string in uppercase 4. try to convert the whole string into lower case 5 . Try to capitalize the whole string 6 . Write a diference between isalnum() and isalpha() 7. Try to give an example of expand tab 8 . Give an example of strip , lstrip and rstrip 9. Replace a string charecter by another charector by taking your own example \"Your Name\" 10 . Try to give a defination of string center function with and exmple 11 . Write your own definition of compiler and interpretor without copy paste form internet in your own language 12 . Python is a interpreted of compiled language give a clear ans with your understanding 13 . Try to write a usecase of python with your understanding ."
   ]
  },
  {
   "cell_type": "code",
   "execution_count": 1,
   "id": "02513820-d6f4-424b-9c92-133a7a09b232",
   "metadata": {},
   "outputs": [],
   "source": [
    "s = \"this is My First Python programming class and i am learNING python string and its function\" "
   ]
  },
  {
   "cell_type": "markdown",
   "id": "99cde06b-933a-4818-a286-709334382ab3",
   "metadata": {},
   "source": [
    "#  1 . Try to extract data from index one to index 300 with a jump of 3 "
   ]
  },
  {
   "cell_type": "code",
   "execution_count": 2,
   "id": "6052e515-3183-49cd-bce2-71228e85c59b",
   "metadata": {},
   "outputs": [
    {
     "data": {
      "text/plain": [
       "'h   r tnrrmglsnimeNGyosi dtfco'"
      ]
     },
     "execution_count": 2,
     "metadata": {},
     "output_type": "execute_result"
    }
   ],
   "source": [
    "s[1:301:3]"
   ]
  },
  {
   "cell_type": "markdown",
   "id": "ecb685b0-a6a6-4b2a-9b55-bb965a4c84c7",
   "metadata": {},
   "source": [
    "# 2. Try to reverse a string without using reverse function"
   ]
  },
  {
   "cell_type": "code",
   "execution_count": 3,
   "id": "4627bd1c-1606-43f5-bb73-ccfc82894491",
   "metadata": {},
   "outputs": [
    {
     "data": {
      "text/plain": [
       "'noitcnuf sti dna gnirts nohtyp GNINrael ma i dna ssalc gnimmargorp nohtyP tsriF yM si siht'"
      ]
     },
     "execution_count": 3,
     "metadata": {},
     "output_type": "execute_result"
    }
   ],
   "source": [
    "s[::-1]"
   ]
  },
  {
   "cell_type": "markdown",
   "id": "b8bdebbe-d096-4a4a-ab09-a80ec0259d18",
   "metadata": {},
   "source": [
    "# 3. Try to split a string after conversion of entire string in uppercase"
   ]
  },
  {
   "cell_type": "code",
   "execution_count": 5,
   "id": "37fdfdb3-2845-471c-a87b-beb52028c23d",
   "metadata": {},
   "outputs": [
    {
     "data": {
      "text/plain": [
       "['THIS',\n",
       " 'IS',\n",
       " 'MY',\n",
       " 'FIRST',\n",
       " 'PYTHON',\n",
       " 'PROGRAMMING',\n",
       " 'CLASS',\n",
       " 'AND',\n",
       " 'I',\n",
       " 'AM',\n",
       " 'LEARNING',\n",
       " 'PYTHON',\n",
       " 'STRING',\n",
       " 'AND',\n",
       " 'ITS',\n",
       " 'FUNCTION']"
      ]
     },
     "execution_count": 5,
     "metadata": {},
     "output_type": "execute_result"
    }
   ],
   "source": [
    "s.upper() .split()"
   ]
  },
  {
   "cell_type": "markdown",
   "id": "c0ed7dbd-6136-4298-932f-68a7bde84326",
   "metadata": {},
   "source": [
    "# 4. try to convert the whole string into lower case "
   ]
  },
  {
   "cell_type": "code",
   "execution_count": 6,
   "id": "db0b700c-358d-4c21-9bd1-67291ba2ba5f",
   "metadata": {},
   "outputs": [
    {
     "data": {
      "text/plain": [
       "'this is my first python programming class and i am learning python string and its function'"
      ]
     },
     "execution_count": 6,
     "metadata": {},
     "output_type": "execute_result"
    }
   ],
   "source": [
    "s.lower()"
   ]
  },
  {
   "cell_type": "markdown",
   "id": "a68c2160-f2eb-4633-b894-112b9fc264b0",
   "metadata": {},
   "source": [
    "# 5 . Try to capitalize the whole string "
   ]
  },
  {
   "cell_type": "code",
   "execution_count": 7,
   "id": "4d68019d-2f60-46ae-a9d8-2d1af770d431",
   "metadata": {},
   "outputs": [
    {
     "data": {
      "text/plain": [
       "'This is my first python programming class and i am learning python string and its function'"
      ]
     },
     "execution_count": 7,
     "metadata": {},
     "output_type": "execute_result"
    }
   ],
   "source": [
    "s.capitalize()"
   ]
  },
  {
   "cell_type": "markdown",
   "id": "8c2d97aa-e649-40c7-9859-914e9e29ce6e",
   "metadata": {},
   "source": [
    "# 6 . Write a diference between isalnum() and isalpha()"
   ]
  },
  {
   "cell_type": "code",
   "execution_count": 8,
   "id": "290e3e78-bb5e-4e34-8a5b-37ce8d5b36f0",
   "metadata": {},
   "outputs": [
    {
     "data": {
      "text/plain": [
       "False"
      ]
     },
     "execution_count": 8,
     "metadata": {},
     "output_type": "execute_result"
    }
   ],
   "source": [
    "s.isalnum()"
   ]
  },
  {
   "cell_type": "code",
   "execution_count": 9,
   "id": "de857a7b-1bf4-4bcf-939d-156afe1a15f3",
   "metadata": {},
   "outputs": [
    {
     "data": {
      "text/plain": [
       "False"
      ]
     },
     "execution_count": 9,
     "metadata": {},
     "output_type": "execute_result"
    }
   ],
   "source": [
    "s.isalpha()"
   ]
  },
  {
   "cell_type": "markdown",
   "id": "c78332d4-e50d-4b9c-b742-f21579a1fba5",
   "metadata": {},
   "source": [
    "# 7. Try to give an example of expand tab"
   ]
  },
  {
   "cell_type": "code",
   "execution_count": 10,
   "id": "ea818d37-b563-4c63-88c1-b7a7aec86ecd",
   "metadata": {},
   "outputs": [
    {
     "data": {
      "text/plain": [
       "'this is My First Python programming class and i am learNING python string and its function'"
      ]
     },
     "execution_count": 10,
     "metadata": {},
     "output_type": "execute_result"
    }
   ],
   "source": [
    "s.expandtabs()"
   ]
  },
  {
   "cell_type": "markdown",
   "id": "87b32b0e-c99b-456e-8094-17140dd06d1b",
   "metadata": {},
   "source": [
    "# 8 . Give an example of strip , lstrip and rstrip "
   ]
  },
  {
   "cell_type": "code",
   "execution_count": 14,
   "id": "8357a9cf-92cd-4721-badc-031f4e1a7656",
   "metadata": {},
   "outputs": [
    {
     "data": {
      "text/plain": [
       "'this is My First Python programming class and i am learNING python string and its function'"
      ]
     },
     "execution_count": 14,
     "metadata": {},
     "output_type": "execute_result"
    }
   ],
   "source": [
    "s.strip() .lstrip() .rstrip()"
   ]
  },
  {
   "cell_type": "markdown",
   "id": "de67bd5a-5c26-40f5-b696-c231fa125356",
   "metadata": {},
   "source": [
    "# 9. Replace a string charecter by another charector by taking your own example \"Your Name\""
   ]
  },
  {
   "cell_type": "code",
   "execution_count": 31,
   "id": "6e1e7d10-e8e5-45b0-925b-7af1de23b5ae",
   "metadata": {},
   "outputs": [
    {
     "data": {
      "text/plain": [
       "'this is My First Python gaikwad class and i am learNING python string and its function'"
      ]
     },
     "execution_count": 31,
     "metadata": {},
     "output_type": "execute_result"
    }
   ],
   "source": [
    "s.replace(\"programming\",\"gaikwad\")"
   ]
  },
  {
   "cell_type": "markdown",
   "id": "f1f9455b-01ec-4d90-91b4-edc5dfd261e1",
   "metadata": {},
   "source": [
    "# 10 . Try to give a defination of string center function with and exmple "
   ]
  },
  {
   "cell_type": "code",
   "execution_count": null,
   "id": "e1669796-ac94-47de-a71e-3209ebb22536",
   "metadata": {},
   "outputs": [],
   "source": [
    "it is string method that is used to align text within a given string length"
   ]
  },
  {
   "cell_type": "code",
   "execution_count": 5,
   "id": "8b0ebf2d-4442-4970-8c03-3ef5e03a951b",
   "metadata": {},
   "outputs": [],
   "source": [
    "a = \"aarati\""
   ]
  },
  {
   "cell_type": "code",
   "execution_count": 6,
   "id": "24b455bc-32ee-4f96-9993-c3855730bad9",
   "metadata": {},
   "outputs": [
    {
     "data": {
      "text/plain": [
       "str"
      ]
     },
     "execution_count": 6,
     "metadata": {},
     "output_type": "execute_result"
    }
   ],
   "source": [
    "type(a)"
   ]
  },
  {
   "cell_type": "code",
   "execution_count": 8,
   "id": "9825a080-87ee-42cc-8c27-990243b3fa50",
   "metadata": {},
   "outputs": [
    {
     "data": {
      "text/plain": [
       "'    aarati    '"
      ]
     },
     "execution_count": 8,
     "metadata": {},
     "output_type": "execute_result"
    }
   ],
   "source": [
    "a.center(14)"
   ]
  },
  {
   "cell_type": "markdown",
   "id": "80ad4a37-2c7b-42b9-aefa-7c3b90122795",
   "metadata": {},
   "source": [
    "# 11 . Write your own definition of compiler and interpretor without copy paste form internet in your own language "
   ]
  },
  {
   "cell_type": "markdown",
   "id": "b823c14d-bb48-44d7-834a-27ce52e25667",
   "metadata": {},
   "source": [
    "Compiler:a computer program that translate source code written in a programming language into machine code."
   ]
  },
  {
   "cell_type": "markdown",
   "id": "df9be9f8-1e24-4730-816d-71ba8c7845cf",
   "metadata": {},
   "source": [
    "interpretor:a computer program that executer instructions in programming language without first compiling them into a machine language"
   ]
  },
  {
   "cell_type": "markdown",
   "id": "10a92edb-7336-45ab-a815-967baa7cf066",
   "metadata": {},
   "source": [
    "# 12 . Python is a interpreted of compiled language give a clear ans with your understanding"
   ]
  },
  {
   "cell_type": "markdown",
   "id": "7eda8d69-6958-4bbd-83b3-817c63ec7797",
   "metadata": {},
   "source": [
    "python is an interpreted language because the source code is converted into bytecode and then executed by the python virtual machine every time to program run"
   ]
  },
  {
   "cell_type": "code",
   "execution_count": null,
   "id": "0b30d5a3-1639-4637-8c31-c4c7f006c1d2",
   "metadata": {},
   "outputs": [],
   "source": []
  },
  {
   "cell_type": "markdown",
   "id": "5daf86c3-3be1-44a3-8866-29037c57ad7a",
   "metadata": {},
   "source": [
    "# 13 . Try to write a usecase of python with your understanding "
   ]
  },
  {
   "cell_type": "markdown",
   "id": "77b17014-e649-460d-8fb6-2773aabf34b0",
   "metadata": {},
   "source": [
    "python is used to make web page, AI, game developement, operating system, scientific and numeric computing etc."
   ]
  }
 ],
 "metadata": {
  "kernelspec": {
   "display_name": "Python 3 (ipykernel)",
   "language": "python",
   "name": "python3"
  },
  "language_info": {
   "codemirror_mode": {
    "name": "ipython",
    "version": 3
   },
   "file_extension": ".py",
   "mimetype": "text/x-python",
   "name": "python",
   "nbconvert_exporter": "python",
   "pygments_lexer": "ipython3",
   "version": "3.12.4"
  }
 },
 "nbformat": 4,
 "nbformat_minor": 5
}
