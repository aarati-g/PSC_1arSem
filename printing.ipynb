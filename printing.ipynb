{
 "cells": [
  {
   "cell_type": "code",
   "execution_count": 9,
   "id": "c5d61282-7443-48da-88a7-5f5991a7d29e",
   "metadata": {},
   "outputs": [],
   "source": [
    "a = 2"
   ]
  },
  {
   "cell_type": "code",
   "execution_count": 10,
   "id": "029c17e4-31f4-425d-b05d-33d4919926e5",
   "metadata": {},
   "outputs": [
    {
     "name": "stdout",
     "output_type": "stream",
     "text": [
      "2\n"
     ]
    }
   ],
   "source": [
    "# library function or inbuilt function\n",
    "print(2)"
   ]
  },
  {
   "cell_type": "code",
   "execution_count": 11,
   "id": "a016dd31-4327-4993-8df1-00ff1c420c8f",
   "metadata": {},
   "outputs": [
    {
     "name": "stdout",
     "output_type": "stream",
     "text": [
      "Aarati gaikwad\n"
     ]
    }
   ],
   "source": [
    "print(\"Aarati gaikwad\")"
   ]
  },
  {
   "cell_type": "code",
   "execution_count": 12,
   "id": "3c70c664-3578-4e16-9fe5-4ef01870767f",
   "metadata": {},
   "outputs": [],
   "source": [
    "name = \"Aarati gaikwad\""
   ]
  },
  {
   "cell_type": "code",
   "execution_count": 13,
   "id": "8761e25c-6086-48a3-99ce-b8220991f2cb",
   "metadata": {},
   "outputs": [
    {
     "name": "stdout",
     "output_type": "stream",
     "text": [
      "Aarati gaikwad\n"
     ]
    }
   ],
   "source": [
    "print(name)"
   ]
  },
  {
   "cell_type": "code",
   "execution_count": 14,
   "id": "0cad8bf1-30d3-434d-aa3f-efa45bac169c",
   "metadata": {},
   "outputs": [
    {
     "data": {
      "text/plain": [
       "'Aarati gaikwad'"
      ]
     },
     "execution_count": 14,
     "metadata": {},
     "output_type": "execute_result"
    }
   ],
   "source": [
    "name"
   ]
  },
  {
   "cell_type": "code",
   "execution_count": 19,
   "id": "5db61864-b442-4199-9da4-784f69c72989",
   "metadata": {},
   "outputs": [
    {
     "data": {
      "text/plain": [
       "2"
      ]
     },
     "execution_count": 19,
     "metadata": {},
     "output_type": "execute_result"
    }
   ],
   "source": [
    "a"
   ]
  },
  {
   "cell_type": "code",
   "execution_count": 22,
   "id": "9c437b14-86fc-40a2-9938-aa4e25f708fe",
   "metadata": {},
   "outputs": [],
   "source": [
    "a, b, c = 4, 5, 7"
   ]
  },
  {
   "cell_type": "code",
   "execution_count": 23,
   "id": "40caf58f-fe0b-4fdf-ac95-77e860f5885f",
   "metadata": {},
   "outputs": [],
   "source": [
    "a = b = c = 7"
   ]
  },
  {
   "cell_type": "raw",
   "id": "4dd7e199-bcde-449e-ac19-08689401999a",
   "metadata": {},
   "source": []
  },
  {
   "cell_type": "code",
   "execution_count": 25,
   "id": "8c6ed749-db3f-48de-8f09-1b25b7245475",
   "metadata": {},
   "outputs": [
    {
     "name": "stdout",
     "output_type": "stream",
     "text": [
      "7 7 7\n"
     ]
    }
   ],
   "source": [
    "print(a, b, c)"
   ]
  },
  {
   "cell_type": "code",
   "execution_count": 30,
   "id": "dcf40cd3-8776-4b16-951c-b36e93b33682",
   "metadata": {},
   "outputs": [
    {
     "name": "stdout",
     "output_type": "stream",
     "text": [
      "7,7,7\n"
     ]
    }
   ],
   "source": [
    "print(a, b, c, sep=',')"
   ]
  },
  {
   "cell_type": "code",
   "execution_count": 31,
   "id": "23f03807-4a8e-4c77-a180-574ce4dce06d",
   "metadata": {},
   "outputs": [
    {
     "name": "stdout",
     "output_type": "stream",
     "text": [
      "7@7@7\n"
     ]
    }
   ],
   "source": [
    "print(a,b,c,sep='@')"
   ]
  },
  {
   "cell_type": "code",
   "execution_count": 34,
   "id": "59a82b2c-6c2a-42d9-9c2e-2dd0eff2b748",
   "metadata": {},
   "outputs": [
    {
     "name": "stdout",
     "output_type": "stream",
     "text": [
      "45 67 89\n"
     ]
    }
   ],
   "source": [
    "print(45,67,89,sep=\" \")"
   ]
  },
  {
   "cell_type": "raw",
   "id": "15a9795c-a5a1-4074-b76a-1b706e3ec15e",
   "metadata": {},
   "source": [
    "print"
   ]
  },
  {
   "cell_type": "code",
   "execution_count": 43,
   "id": "69e93880-dce6-4582-ba21-db581a1bc672",
   "metadata": {},
   "outputs": [
    {
     "name": "stdout",
     "output_type": "stream",
     "text": [
      "Aarati gaikwad\tsnehal lohar\n",
      "snehal lohar\n"
     ]
    }
   ],
   "source": [
    "print('Aarati gaikwad',end='\\t')\n",
    "print('snehal lohar')\n",
    "print('snehal lohar')\n"
   ]
  },
  {
   "cell_type": "raw",
   "id": "514883f2-57a3-426a-a98f-22959a04d8f4",
   "metadata": {},
   "source": []
  },
  {
   "cell_type": "code",
   "execution_count": 50,
   "id": "6d934208-772a-42a3-bd37-c052b9371a38",
   "metadata": {},
   "outputs": [
    {
     "name": "stdout",
     "output_type": "stream",
     "text": [
      "Enter Two Nos.\n"
     ]
    },
    {
     "name": "stdin",
     "output_type": "stream",
     "text": [
      "input the value a 6\n",
      "input the value b 8\n"
     ]
    },
    {
     "name": "stdout",
     "output_type": "stream",
     "text": [
      "14\n"
     ]
    }
   ],
   "source": [
    "# write code for add 2 nos\n",
    "print(\"Enter Two Nos.\")\n",
    "a = int(input(\"input the value a\"))\n",
    "b = int(input(\"input the value b\"))\n",
    "c = a+b\n",
    "print(c)"
   ]
  },
  {
   "cell_type": "code",
   "execution_count": null,
   "id": "cf01cda2-35c9-46e0-ae03-4e64ab1a8be0",
   "metadata": {},
   "outputs": [],
   "source": []
  }
 ],
 "metadata": {
  "kernelspec": {
   "display_name": "Python 3 (ipykernel)",
   "language": "python",
   "name": "python3"
  },
  "language_info": {
   "codemirror_mode": {
    "name": "ipython",
    "version": 3
   },
   "file_extension": ".py",
   "mimetype": "text/x-python",
   "name": "python",
   "nbconvert_exporter": "python",
   "pygments_lexer": "ipython3",
   "version": "3.12.4"
  }
 },
 "nbformat": 4,
 "nbformat_minor": 5
}
