{
 "cells": [
  {
   "cell_type": "code",
   "execution_count": 4,
   "id": "cff7ca36-33b1-4f57-8d11-1467f1923832",
   "metadata": {},
   "outputs": [],
   "source": [
    "name = \"Prasanna babar\""
   ]
  },
  {
   "cell_type": "code",
   "execution_count": 5,
   "id": "4e23147f-f784-47a1-8f95-a24a9de94205",
   "metadata": {},
   "outputs": [
    {
     "data": {
      "text/plain": [
       "'Prasanna babar'"
      ]
     },
     "execution_count": 5,
     "metadata": {},
     "output_type": "execute_result"
    }
   ],
   "source": [
    "name"
   ]
  },
  {
   "cell_type": "code",
   "execution_count": 6,
   "id": "1c1b13af-d128-4970-9374-7786e9c36ddc",
   "metadata": {},
   "outputs": [
    {
     "data": {
      "text/plain": [
       "'n'"
      ]
     },
     "execution_count": 6,
     "metadata": {},
     "output_type": "execute_result"
    }
   ],
   "source": [
    "name[6]"
   ]
  },
  {
   "cell_type": "code",
   "execution_count": null,
   "id": "2125d47d-cd2b-4520-a740-a8c011180fc4",
   "metadata": {},
   "outputs": [],
   "source": [
    "# slicing operation"
   ]
  },
  {
   "cell_type": "code",
   "execution_count": 10,
   "id": "7aad617c-85c7-4bbb-8a04-5bf02852f6e4",
   "metadata": {},
   "outputs": [
    {
     "data": {
      "text/plain": [
       "''"
      ]
     },
     "execution_count": 10,
     "metadata": {},
     "output_type": "execute_result"
    }
   ],
   "source": [
    "name[6:-1:-2]"
   ]
  },
  {
   "cell_type": "code",
   "execution_count": 12,
   "id": "c300c6c7-c7eb-4999-81f5-3f1e37c1de17",
   "metadata": {},
   "outputs": [
    {
     "data": {
      "text/plain": [
       "' na'"
      ]
     },
     "execution_count": 12,
     "metadata": {},
     "output_type": "execute_result"
    }
   ],
   "source": [
    "name[-6:2:-2]"
   ]
  },
  {
   "cell_type": "code",
   "execution_count": 14,
   "id": "fcc31af3-ca0e-4395-a317-28aaa544d992",
   "metadata": {},
   "outputs": [
    {
     "data": {
      "text/plain": [
       "'anna ba'"
      ]
     },
     "execution_count": 14,
     "metadata": {},
     "output_type": "execute_result"
    }
   ],
   "source": [
    "name[-10:-3:1]"
   ]
  },
  {
   "cell_type": "code",
   "execution_count": 15,
   "id": "a462ac6d-71bb-4b9e-9f6a-a782f393b1e5",
   "metadata": {},
   "outputs": [
    {
     "data": {
      "text/plain": [
       "'ba'"
      ]
     },
     "execution_count": 15,
     "metadata": {},
     "output_type": "execute_result"
    }
   ],
   "source": [
    "name[-3:-1:1]"
   ]
  },
  {
   "cell_type": "code",
   "execution_count": 16,
   "id": "15e98114-fe89-4552-a8b9-2a848faee9ad",
   "metadata": {},
   "outputs": [
    {
     "data": {
      "text/plain": [
       "'r'"
      ]
     },
     "execution_count": 16,
     "metadata": {},
     "output_type": "execute_result"
    }
   ],
   "source": [
    "name[-13]"
   ]
  },
  {
   "cell_type": "markdown",
   "id": "cf1c7155-965a-490c-8839-9ade523038d4",
   "metadata": {},
   "source": [
    "name[6:-2]"
   ]
  },
  {
   "cell_type": "code",
   "execution_count": 17,
   "id": "2ac40fa4-88f0-41e2-8d03-cadce4ac455a",
   "metadata": {},
   "outputs": [
    {
     "data": {
      "text/plain": [
       "'na bab'"
      ]
     },
     "execution_count": 17,
     "metadata": {},
     "output_type": "execute_result"
    }
   ],
   "source": [
    "name[6:-2]"
   ]
  },
  {
   "cell_type": "code",
   "execution_count": 18,
   "id": "3bc5a15f-d07f-45bf-bc4b-3f6dc90d0083",
   "metadata": {},
   "outputs": [
    {
     "data": {
      "text/plain": [
       "'na ba'"
      ]
     },
     "execution_count": 18,
     "metadata": {},
     "output_type": "execute_result"
    }
   ],
   "source": [
    "name[-8:11]"
   ]
  },
  {
   "cell_type": "markdown",
   "id": "08b1b819-4bbd-4a4d-aff5-0bdfec8f693f",
   "metadata": {},
   "source": []
  },
  {
   "cell_type": "code",
   "execution_count": 19,
   "id": "ac1b614e-bc98-4938-93db-85678ae87266",
   "metadata": {},
   "outputs": [
    {
     "data": {
      "text/plain": [
       "'na'"
      ]
     },
     "execution_count": 19,
     "metadata": {},
     "output_type": "execute_result"
    }
   ],
   "source": [
    "name[-8:8]"
   ]
  },
  {
   "cell_type": "code",
   "execution_count": null,
   "id": "7bec340d-5280-49cf-9523-e05f4fa48fd9",
   "metadata": {},
   "outputs": [],
   "source": [
    "name = \"Aarati gaikwad\""
   ]
  },
  {
   "cell_type": "code",
   "execution_count": 21,
   "id": "f36ca740-f08a-488d-b200-ffe2360bc516",
   "metadata": {},
   "outputs": [],
   "source": [
    "name = \"Aarati gaikwad\""
   ]
  },
  {
   "cell_type": "code",
   "execution_count": 22,
   "id": "94d339c6-ed73-48a0-b3ea-d0ab89f535a7",
   "metadata": {},
   "outputs": [
    {
     "data": {
      "text/plain": [
       "'Aarati gaikwad'"
      ]
     },
     "execution_count": 22,
     "metadata": {},
     "output_type": "execute_result"
    }
   ],
   "source": [
    "name"
   ]
  },
  {
   "cell_type": "code",
   "execution_count": 23,
   "id": "7dd615a0-3fbb-48c3-896f-f826d53e7f1b",
   "metadata": {},
   "outputs": [
    {
     "data": {
      "text/plain": [
       "''"
      ]
     },
     "execution_count": 23,
     "metadata": {},
     "output_type": "execute_result"
    }
   ],
   "source": [
    "name[-1:-14]"
   ]
  },
  {
   "cell_type": "code",
   "execution_count": 24,
   "id": "ae7e33c6-20c8-4fb5-b4c3-8197b36aa675",
   "metadata": {},
   "outputs": [
    {
     "data": {
      "text/plain": [
       "'d'"
      ]
     },
     "execution_count": 24,
     "metadata": {},
     "output_type": "execute_result"
    }
   ],
   "source": [
    "name[-1:-8:-14]"
   ]
  },
  {
   "cell_type": "code",
   "execution_count": 27,
   "id": "5350e806-43fc-4f37-8299-86020a1f129a",
   "metadata": {},
   "outputs": [
    {
     "data": {
      "text/plain": [
       "''"
      ]
     },
     "execution_count": 27,
     "metadata": {},
     "output_type": "execute_result"
    }
   ],
   "source": [
    "name[-5:-3:-1] "
   ]
  },
  {
   "cell_type": "code",
   "execution_count": 28,
   "id": "2fcdcd33-9ec4-4bea-abe0-612fd4629080",
   "metadata": {},
   "outputs": [
    {
     "data": {
      "text/plain": [
       "'t'"
      ]
     },
     "execution_count": 28,
     "metadata": {},
     "output_type": "execute_result"
    }
   ],
   "source": [
    "     name[4]   "
   ]
  },
  {
   "cell_type": "code",
   "execution_count": 30,
   "id": "5753b615-d198-4ec4-aab4-d159618481eb",
   "metadata": {},
   "outputs": [
    {
     "data": {
      "text/plain": [
       "'dawkiag itaraA'"
      ]
     },
     "execution_count": 30,
     "metadata": {},
     "output_type": "execute_result"
    }
   ],
   "source": [
    "name[-1: :-1]"
   ]
  },
  {
   "cell_type": "code",
   "execution_count": 31,
   "id": "3bed450f-00e7-421b-acb6-7585c628a5f1",
   "metadata": {},
   "outputs": [
    {
     "data": {
      "text/plain": [
       "'dawkiag itaraA'"
      ]
     },
     "execution_count": 31,
     "metadata": {},
     "output_type": "execute_result"
    }
   ],
   "source": [
    "name[::-1]"
   ]
  },
  {
   "cell_type": "code",
   "execution_count": 32,
   "id": "0cfef7e4-e324-414f-ab38-e27b332ae9c7",
   "metadata": {},
   "outputs": [
    {
     "data": {
      "text/plain": [
       "'d'"
      ]
     },
     "execution_count": 32,
     "metadata": {},
     "output_type": "execute_result"
    }
   ],
   "source": [
    "name[-1]"
   ]
  },
  {
   "cell_type": "code",
   "execution_count": 38,
   "id": "708e57ff-5d6d-4e6a-af11-a5920a8b0050",
   "metadata": {},
   "outputs": [
    {
     "data": {
      "text/plain": [
       "'Aarati gaikwad 04 sep'"
      ]
     },
     "execution_count": 38,
     "metadata": {},
     "output_type": "execute_result"
    }
   ],
   "source": [
    "name+\" 04 sep\""
   ]
  },
  {
   "cell_type": "code",
   "execution_count": 40,
   "id": "a7e577ac-cb6b-4abb-abe2-396e7b7235cc",
   "metadata": {},
   "outputs": [
    {
     "data": {
      "text/plain": [
       "'Aarati gaikwad49'"
      ]
     },
     "execution_count": 40,
     "metadata": {},
     "output_type": "execute_result"
    }
   ],
   "source": [
    "name+str(49)"
   ]
  },
  {
   "cell_type": "code",
   "execution_count": 42,
   "id": "528fcfcc-1d54-438c-b97f-b137adc21c62",
   "metadata": {},
   "outputs": [
    {
     "data": {
      "text/plain": [
       "14"
      ]
     },
     "execution_count": 42,
     "metadata": {},
     "output_type": "execute_result"
    }
   ],
   "source": [
    "# find the length of name\n",
    "len(name)"
   ]
  },
  {
   "cell_type": "code",
   "execution_count": 43,
   "id": "05212a49-706e-4908-b373-6a8877bf379d",
   "metadata": {},
   "outputs": [
    {
     "data": {
      "text/plain": [
       "'Aarati gaikwadAarati gaikwadAarati gaikwadAarati gaikwad'"
      ]
     },
     "execution_count": 43,
     "metadata": {},
     "output_type": "execute_result"
    }
   ],
   "source": [
    "name*4"
   ]
  },
  {
   "cell_type": "code",
   "execution_count": 49,
   "id": "0d912f06-4e74-4eae-a2a7-0f387f163a1a",
   "metadata": {},
   "outputs": [
    {
     "data": {
      "text/plain": [
       "1"
      ]
     },
     "execution_count": 49,
     "metadata": {},
     "output_type": "execute_result"
    }
   ],
   "source": [
    "name.count('Aa')"
   ]
  },
  {
   "cell_type": "code",
   "execution_count": 52,
   "id": "7a21b0c1-7fa2-4373-8d3f-ba9b1998078a",
   "metadata": {},
   "outputs": [
    {
     "data": {
      "text/plain": [
       "4"
      ]
     },
     "execution_count": 52,
     "metadata": {},
     "output_type": "execute_result"
    }
   ],
   "source": [
    "name.count('a')"
   ]
  },
  {
   "cell_type": "markdown",
   "id": "45e8e1a6-3dab-4af9-abca-275685f0108e",
   "metadata": {},
   "source": []
  },
  {
   "cell_type": "code",
   "execution_count": 53,
   "id": "a5122ea8-cb87-4ac0-8a2c-583a1560d18c",
   "metadata": {},
   "outputs": [
    {
     "data": {
      "text/plain": [
       "['Aarat', ' ga', 'kwad']"
      ]
     },
     "execution_count": 53,
     "metadata": {},
     "output_type": "execute_result"
    }
   ],
   "source": [
    "name.split('i')"
   ]
  },
  {
   "cell_type": "code",
   "execution_count": 54,
   "id": "36bceeed-7571-457e-a21f-521ccadeb629",
   "metadata": {},
   "outputs": [
    {
     "data": {
      "text/plain": [
       "list"
      ]
     },
     "execution_count": 54,
     "metadata": {},
     "output_type": "execute_result"
    }
   ],
   "source": [
    "type(name.split('i'))"
   ]
  },
  {
   "cell_type": "code",
   "execution_count": 59,
   "id": "3b2487c7-e46f-420c-b272-7e23cbf1be6b",
   "metadata": {},
   "outputs": [
    {
     "data": {
      "text/plain": [
       "['Aarati', 'gaikwad']"
      ]
     },
     "execution_count": 59,
     "metadata": {},
     "output_type": "execute_result"
    }
   ],
   "source": [
    "# divide name 2 into list of words\n",
    "# [ 'Aarati']\n",
    "name.split(' ')"
   ]
  },
  {
   "cell_type": "code",
   "execution_count": null,
   "id": "a78f5beb-6e91-4ba9-8fa1-6bcd189e9e56",
   "metadata": {},
   "outputs": [],
   "source": [
    " "
   ]
  },
  {
   "cell_type": "code",
   "execution_count": null,
   "id": "a0f07bb5-812e-44ea-b5c3-8a4d3ae582a2",
   "metadata": {},
   "outputs": [],
   "source": []
  }
 ],
 "metadata": {
  "kernelspec": {
   "display_name": "Python 3 (ipykernel)",
   "language": "python",
   "name": "python3"
  },
  "language_info": {
   "codemirror_mode": {
    "name": "ipython",
    "version": 3
   },
   "file_extension": ".py",
   "mimetype": "text/x-python",
   "name": "python",
   "nbconvert_exporter": "python",
   "pygments_lexer": "ipython3",
   "version": "3.12.4"
  }
 },
 "nbformat": 4,
 "nbformat_minor": 5
}
